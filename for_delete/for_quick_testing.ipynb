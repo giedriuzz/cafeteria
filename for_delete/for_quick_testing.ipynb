{
 "cells": [
  {
   "cell_type": "code",
   "execution_count": null,
   "metadata": {},
   "outputs": [],
   "source": [
    "from datetime import datetime\n",
    "def input_only_date(string_date: str, string_time:str) -> datetime:\n",
    "        while True:\n",
    "            try:\n",
    "                date_example = \"%Y-%m-%d\"\n",
    "                time_example = \"%H:%M\"\n",
    "                input_date = input(string_date)\n",
    "                input_time = input(string_time)\n",
    "                date_now = datetime.now()\n",
    "                timestamp_date_now = datetime.timestamp(date_now)\n",
    "                date = datetime.strptime(input_date, date_example)\n",
    "                time = datetime.strptime(input_time, time_example)\n",
    "                date_joined_from_inputs = datetime(year=date.year, month=date.month, day=date.day, hour=time.hour, minute=time.minute)\n",
    "                timestamp_from_joined_date = datetime.timestamp(date_joined_from_inputs)\n",
    "                if timestamp_from_joined_date >= timestamp_date_now:\n",
    "                    return timestamp_from_joined_date\n",
    "                elif timestamp_from_joined_date < timestamp_date_now: \n",
    "                    raise ValueError(\"Date must to be equal to today or bigger than current date\")\n",
    "            except ValueError:\n",
    "                print(\"Date format must to be like '2023-01-23' and bigger than current date!\")\n",
    "                continue\n",
    "print(input_only_date(\"Date : \", \"Time: \"))"
   ]
  },
  {
   "cell_type": "code",
   "execution_count": null,
   "metadata": {},
   "outputs": [],
   "source": [
    "from datetime import datetime\n",
    "import time\n",
    "date_now = datetime.timestamp()\n",
    "\n",
    "print(date_now)"
   ]
  },
  {
   "cell_type": "code",
   "execution_count": 1,
   "metadata": {},
   "outputs": [
    {
     "name": "stdout",
     "output_type": "stream",
     "text": [
      "2023-06-22 12:45:14.328253\n"
     ]
    }
   ],
   "source": [
    "from datetime import datetime\n",
    "a = 1687427114.328253\n",
    "print(datetime.fromtimestamp(a))\n"
   ]
  }
 ],
 "metadata": {
  "kernelspec": {
   "display_name": "cafeteria-MqUcxZ9F",
   "language": "python",
   "name": "python3"
  },
  "language_info": {
   "codemirror_mode": {
    "name": "ipython",
    "version": 3
   },
   "file_extension": ".py",
   "mimetype": "text/x-python",
   "name": "python",
   "nbconvert_exporter": "python",
   "pygments_lexer": "ipython3",
   "version": "3.10.6"
  },
  "orig_nbformat": 4
 },
 "nbformat": 4,
 "nbformat_minor": 2
}
