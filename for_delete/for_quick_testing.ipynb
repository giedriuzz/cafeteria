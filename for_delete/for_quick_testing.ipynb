{
 "cells": [
  {
   "cell_type": "code",
   "execution_count": 8,
   "metadata": {},
   "outputs": [
    {
     "name": "stdout",
     "output_type": "stream",
     "text": [
      "Date format must to be like '2023-01-23' and bigger than current date!\n",
      "Date format must to be like '2023-01-23' and bigger than current date!\n",
      "Date format must to be like '2023-01-23' and bigger than current date!\n",
      "Date format must to be like '2023-01-23' and bigger than current date!\n",
      "Date format must to be like '2023-01-23' and bigger than current date!\n",
      "Date format must to be like '2023-01-23' and bigger than current date!\n",
      "Date format must to be like '2023-01-23' and bigger than current date!\n",
      "Date format must to be like '2023-01-23' and bigger than current date!\n",
      "Date format must to be like '2023-01-23' and bigger than current date!\n",
      "Date format must to be like '2023-01-23' and bigger than current date!\n",
      "Date format must to be like '2023-01-23' and bigger than current date!\n",
      "Date format must to be like '2023-01-23' and bigger than current date!\n",
      "Date format must to be like '2023-01-23' and bigger than current date!\n",
      "Date format must to be like '2023-01-23' and bigger than current date!\n",
      "Date format must to be like '2023-01-23' and bigger than current date!\n",
      "Date format must to be like '2023-01-23' and bigger than current date!\n"
     ]
    }
   ],
   "source": [
    "from datetime import datetime\n",
    "def input_only_date(string_date: str, string_time:str) -> datetime:\n",
    "        while True:\n",
    "            try:\n",
    "                date_example = \"%Y-%m-%d\"\n",
    "                time_example = \"%H:%M\"\n",
    "                input_date = input(string_date)\n",
    "                input_time = input(string_time)\n",
    "                date_now = datetime.now()\n",
    "                timestamp_date_now = datetime.timestamp(date_now)\n",
    "                date = datetime.strptime(input_date, date_example)\n",
    "                time = datetime.strptime(input_time, time_example)\n",
    "                date_joined_from_inputs = datetime(year=date.year, month=date.month, day=date.day, hour=time.hour, minute=time.minute)\n",
    "                timestamp_from_joined_date = datetime.timestamp(date_joined_from_inputs)\n",
    "                if timestamp_from_joined_date >= timestamp_date_now:\n",
    "                    return timestamp_from_joined_date\n",
    "                elif timestamp_from_joined_date < timestamp_date_now: \n",
    "                    raise ValueError(\"Date must to be equal to today or bigger than current date\")\n",
    "            except ValueError:\n",
    "                print(\"Date format must to be like '2023-01-23' and bigger than current date!\")\n",
    "                continue\n",
    "print(input_only_date(\"Date : \", \"Time: \"))"
   ]
  },
  {
   "cell_type": "code",
   "execution_count": 6,
   "metadata": {},
   "outputs": [
    {
     "ename": "TypeError",
     "evalue": "unbound method datetime.timestamp() needs an argument",
     "output_type": "error",
     "traceback": [
      "\u001b[0;31m---------------------------------------------------------------------------\u001b[0m",
      "\u001b[0;31mTypeError\u001b[0m                                 Traceback (most recent call last)",
      "Cell \u001b[0;32mIn[6], line 2\u001b[0m\n\u001b[1;32m      1\u001b[0m \u001b[39mfrom\u001b[39;00m \u001b[39mdatetime\u001b[39;00m \u001b[39mimport\u001b[39;00m datetime\n\u001b[0;32m----> 2\u001b[0m date_now \u001b[39m=\u001b[39m datetime\u001b[39m.\u001b[39;49mtimestamp()\n\u001b[1;32m      4\u001b[0m \u001b[39mprint\u001b[39m(date_now)\n",
      "\u001b[0;31mTypeError\u001b[0m: unbound method datetime.timestamp() needs an argument"
     ]
    }
   ],
   "source": [
    "from datetime import datetime\n",
    "import time\n",
    "date_now = datetime.timestamp()\n",
    "\n",
    "print(date_now)"
   ]
  }
 ],
 "metadata": {
  "kernelspec": {
   "display_name": "cafeteria-MqUcxZ9F",
   "language": "python",
   "name": "python3"
  },
  "language_info": {
   "codemirror_mode": {
    "name": "ipython",
    "version": 3
   },
   "file_extension": ".py",
   "mimetype": "text/x-python",
   "name": "python",
   "nbconvert_exporter": "python",
   "pygments_lexer": "ipython3",
   "version": "3.10.6"
  },
  "orig_nbformat": 4
 },
 "nbformat": 4,
 "nbformat_minor": 2
}
