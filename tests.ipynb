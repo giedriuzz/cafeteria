{
 "cells": [
  {
   "cell_type": "code",
   "execution_count": 2,
   "metadata": {},
   "outputs": [
    {
     "name": "stdout",
     "output_type": "stream",
     "text": [
      "apple\n",
      "banana\n",
      "cherry\n",
      "[1]\n"
     ]
    }
   ],
   "source": [
    "import random\n",
    "\n",
    "mylist = {\"apple\":[1], \"banana\": [4, 5, 6], \"cherry\": [8, 9,10]}\n",
    "\n",
    "# random.randint(0, len(mylist))\n",
    "# nmb = random.randint(0, len(mylist))\n",
    "# numbers = mylist.get('apple')\n",
    "# print(random.choice(mylist.get('apple')))\n",
    "\n",
    "for n in mylist:\n",
    "    print(n)\n",
    "\n",
    "\n",
    "if len(mylist['apple']) != 0:\n",
    "    print(mylist['apple'])\n",
    "elif not mylist['apple']:\n",
    "    print('None')\n",
    "    \n"
   ]
  },
  {
   "cell_type": "code",
   "execution_count": 21,
   "metadata": {},
   "outputs": [
    {
     "name": "stdout",
     "output_type": "stream",
     "text": [
      "['single', 'double', 'family']\n",
      "random 2\n",
      "number_of_occupied_tables [1, 2, 3]\n",
      "[1, 2]\n",
      "random 3\n",
      "number_of_occupied_tables [4, 5, 6]\n",
      "[4, 5, 6]\n",
      "random 1\n",
      "number_of_occupied_tables [7, 8, 9]\n",
      "[7]\n",
      "occupied tables:  {'single': [1, 2], 'double': [4, 5, 6], 'family': [7]}\n",
      "free tables:  {'single': [3], 'family': [8, 9]}\n"
     ]
    }
   ],
   "source": [
    "import random\n",
    "\n",
    "occupied_tables = {}\n",
    "free_tables = {}\n",
    "\n",
    "def check_table_availibility(): \n",
    "        \n",
    "        type_of_tables: dict = {\"single\": [1, 2, 3],\n",
    "                      \"double\": [4, 5, 6],\n",
    "                      'family': [7, 8, 9]\n",
    "                      }\n",
    "        table_name_random = random.randint(0, len(list(type_of_tables.keys())))  # Return random number of len dict.keys()\n",
    "        occupied_tables_list = list(type_of_tables.keys())[:(table_name_random)]\n",
    "        print(occupied_tables_list)\n",
    "        for table_keys in type_of_tables.keys():\n",
    "            table_number_random = random.randint(0, len(list(type_of_tables.values())))\n",
    "            print('random', table_number_random) # DEL\n",
    "            \n",
    "            if table_keys in occupied_tables_list:\n",
    "                number_of_occupied_tables = type_of_tables.get(table_keys)\n",
    "                print('number_of_occupied_tables', number_of_occupied_tables) # DEL\n",
    "                occupied_tables.update({table_keys: number_of_occupied_tables[:(table_number_random)]})\n",
    "                if table_number_random < 3:\n",
    "                    free_tables[table_keys] = number_of_occupied_tables[(table_number_random) - len(type_of_tables.values()): ]\n",
    "            \n",
    "                print(number_of_occupied_tables[:(table_number_random)]) # DEL\n",
    "            elif table_keys not in occupied_tables_list:\n",
    "                free_tables.update({table_keys: type_of_tables.get(table_keys)})\n",
    "            \n",
    "                \n",
    "                \n",
    "                \n",
    "                \n",
    "            #print(list(type_of_tables.keys())[:(table_name_occupied)])\n",
    "       \n",
    "\n",
    "check_table_availibility()       \n",
    "print('occupied tables: ', occupied_tables)\n",
    "print('free tables: ', free_tables)\n"
   ]
  },
  {
   "cell_type": "code",
   "execution_count": null,
   "metadata": {},
   "outputs": [],
   "source": [
    "car = {}\n",
    "def cars():\n",
    "    car.update({'baba':145})\n",
    "    car['baba'] = 146\n",
    "cars()\n",
    "print(car)"
   ]
  },
  {
   "cell_type": "code",
   "execution_count": 19,
   "metadata": {},
   "outputs": [
    {
     "name": "stdout",
     "output_type": "stream",
     "text": [
      "Remigijus mano pusbrolis jam 45 metų, -ai\n",
      "Remigijus mano pusbrolis\n"
     ]
    }
   ],
   "source": [
    "class Person:\n",
    "    def __init__(self, name: str, age: int) -> None:\n",
    "        self.name = name\n",
    "        self.age = age\n",
    "        \n",
    "    def set_name(self) -> 'Person':\n",
    "        self.name += ' mano pusbrolis'\n",
    "        return self\n",
    "    \n",
    "    def set_age(self):\n",
    "        self.age = f'{self.name} jam {self.age} metų, -ai'\n",
    "        return self\n",
    "    \n",
    "    \n",
    "person = Person('Remigijus', 45)\n",
    "person.set_name().set_age()\n",
    "\n",
    "print(person.age)\n",
    "print(person.name)"
   ]
  },
  {
   "cell_type": "code",
   "execution_count": 4,
   "metadata": {},
   "outputs": [
    {
     "name": "stdout",
     "output_type": "stream",
     "text": [
      "[['Darius', ['family', 2]], ['Giedrius', ['double', 5]]]\n",
      "[['Darius', ['family', 2]], ['Giedrius', ['double', 5]]]\n"
     ]
    }
   ],
   "source": [
    "import time\n",
    "\n",
    "class Resevation:\n",
    "    \n",
    "    resevation_maked_persons = []\n",
    "    persson_reservation_info = {}\n",
    "    \n",
    "    def get_time(self):\n",
    "        time_now = time.localtime()\n",
    "        return time_now\n",
    "    \n",
    "    def make_ahead_reservation(self, name: str, surname: str, number_of_persons: int, reserved_time) -> None:\n",
    "        self.name = name\n",
    "        self.surname = surname\n",
    "        self.numeber_of_persons = number_of_persons\n",
    "        self.reserved_time = reserved_time\n",
    "        \n",
    "        \n",
    "    \n",
    "    \n",
    "\n",
    "Resevation.resevation_maked_persons=[['Darius',['family', 2]], ['Giedrius',['double', 5]]]\n",
    "print(Resevation.resevation_maked_persons)\n",
    "print(Resevation.resevation_maked_persons)\n",
    "\n",
    "        "
   ]
  }
 ],
 "metadata": {
  "kernelspec": {
   "display_name": "cafeteria-9X4dzfmB",
   "language": "python",
   "name": "python3"
  },
  "language_info": {
   "codemirror_mode": {
    "name": "ipython",
    "version": 3
   },
   "file_extension": ".py",
   "mimetype": "text/x-python",
   "name": "python",
   "nbconvert_exporter": "python",
   "pygments_lexer": "ipython3",
   "version": "3.10.6"
  },
  "orig_nbformat": 4
 },
 "nbformat": 4,
 "nbformat_minor": 2
}
