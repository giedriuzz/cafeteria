{
 "cells": [
  {
   "cell_type": "code",
   "execution_count": 103,
   "metadata": {},
   "outputs": [
    {
     "name": "stdout",
     "output_type": "stream",
     "text": [
      "{'1': {'occupied': [True, True], 'custtomers': ['Giedrius', 'Darius'], 'occupied_time': ['10:00', '12:00']}, '2': {'occupied': [], 'custtomers': [], 'occupied_time': []}, '3': {'occupied': [], 'custtomers': [], 'occupied_time': []}}\n",
      "{'1': {'occupied': [False], 'custtomers': [], 'occupied_time': []}, '2': {'occupied': [], 'custtomers': [], 'occupied_time': []}, '3': {'occupied': [], 'custtomers': [], 'occupied_time': []}}\n",
      "{'1': {'occupied': [False], 'custtomers': [], 'occupied_time': []}, '2': {'occupied': [], 'custtomers': [], 'occupied_time': []}, '3': {'occupied': [], 'custtomers': [], 'occupied_time': []}}\n"
     ]
    }
   ],
   "source": [
    "tables_data = {\n",
    "            'single':{\n",
    "                '1':{'occupied': [True, True], 'custtomers': ['Giedrius', 'Darius'], 'occupied_time': ['10:00', '12:00']},\n",
    "                '2':{'occupied': [], 'custtomers': [], 'occupied_time': []},\n",
    "                '3':{'occupied': [], 'custtomers': [], 'occupied_time': []},\n",
    "                },\n",
    "            'double':{\n",
    "                '1':{'occupied': [False], 'custtomers': [], 'occupied_time': []},\n",
    "                '2':{'occupied': [], 'custtomers': [], 'occupied_time': []},\n",
    "                '3':{'occupied': [], 'custtomers': [], 'occupied_time': []},\n",
    "            },\n",
    "            'family':{\n",
    "                '1':{'occupied': [False], 'custtomers': [], 'occupied_time': []},\n",
    "                '2':{'occupied': [], 'custtomers': [], 'occupied_time': []},\n",
    "                '3':{'occupied': [], 'custtomers': [], 'occupied_time': []},\n",
    "            }\n",
    "        }\n",
    "\n",
    "for n in tables_data.keys():\n",
    "    \n",
    "        print(tables_data.get(n))\n",
    "   \n",
    "    \n"
   ]
  },
  {
   "cell_type": "code",
   "execution_count": null,
   "metadata": {},
   "outputs": [],
   "source": [
    "a = {'single':{1:{'occupied': False,'occupied_time': {'customer': []}}}}\n",
    "            "
   ]
  }
 ],
 "metadata": {
  "kernelspec": {
   "display_name": "cafeteria-9X4dzfmB",
   "language": "python",
   "name": "python3"
  },
  "language_info": {
   "codemirror_mode": {
    "name": "ipython",
    "version": 3
   },
   "file_extension": ".py",
   "mimetype": "text/x-python",
   "name": "python",
   "nbconvert_exporter": "python",
   "pygments_lexer": "ipython3",
   "version": "3.10.6"
  },
  "orig_nbformat": 4
 },
 "nbformat": 4,
 "nbformat_minor": 2
}
