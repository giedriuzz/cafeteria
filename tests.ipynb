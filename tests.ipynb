{
 "cells": [
  {
   "cell_type": "code",
   "execution_count": null,
   "metadata": {},
   "outputs": [],
   "source": [
    "tables_data = {\n",
    "            'single':{\n",
    "                1:{'occupied': [True, True], 'custtomers': ['Giedrius Kuprys', 'Darius', 'Hubertas'], 'occupied_time': [1, 2,4,4,4,4,4]},\n",
    "                2:{'occupied': [], 'custtomers': ['Dovydas', 'Remigijus'], 'occupied_time': []},\n",
    "                3:{'occupied': [], 'custtomers': ['Hubertas', 'Aronas'], 'occupied_time': []},\n",
    "                },\n",
    "            'double':{\n",
    "                1:{'occupied': [False], 'custtomers': [], 'occupied_time': []},\n",
    "                2:{'occupied': [], 'custtomers': [], 'occupied_time': []},\n",
    "                3:{'occupied': [], 'custtomers': [], 'occupied_time': []},\n",
    "            },\n",
    "            'family':{\n",
    "                1:{'occupied': [False], 'custtomers': [], 'occupied_time': []},\n",
    "                2:{'occupied': [], 'custtomers': [], 'occupied_time': []},\n",
    "                3:{'occupied': [], 'custtomers': [], 'occupied_time': []},\n",
    "            }\n",
    "        }\n",
    "\n",
    "a = 'Giedrius Kuprys'\n",
    "for key in tables_data.keys():\n",
    "    for n in range(1, len(tables_data.get(key, {}).values()) + 1):  # vietoj 'single' prasukti ciklą su kitais staliukais\n",
    "        if a in tables_data.get(key, {}).get(n, {}).get('custtomers', {}):\n",
    "            index_of_name: list = tables_data.get('single', {}).get(n, {}).get('custtomers', {})\n",
    "            print(index_of_name.index(a))\n",
    "            print(len(tables_data.get('single', {}).get(n, {}).get('occupied_time', {})))\n",
    "        else:\n",
    "            print('Nėra')\n",
    "            \n",
    "print(tables_data['single'][1]['custtomers'].append('Vaikas'))\n",
    "print(tables_data)\n",
    "        \n",
    "   \n",
    "    \n"
   ]
  },
  {
   "cell_type": "code",
   "execution_count": null,
   "metadata": {},
   "outputs": [],
   "source": [
    "a = {'single':{1:{'occupied': False,'occupied_time': {'customer': []}}}}\n",
    "            "
   ]
  },
  {
   "cell_type": "code",
   "execution_count": 163,
   "metadata": {},
   "outputs": [
    {
     "name": "stdout",
     "output_type": "stream",
     "text": [
      "[['single', 2], ['single', 3], ['double', 1], ['double', 2], ['double', 3], ['family', 3]]\n"
     ]
    }
   ],
   "source": [
    "tables_data = {\n",
    "        \"single\": {\n",
    "            1: {\"customers\": [1]},\n",
    "            2: {\"customers\": []},\n",
    "            3: {\"customers\": []},\n",
    "        },\n",
    "        \"double\": {\n",
    "            1: {\"customers\": []},\n",
    "            2: {\"customers\": []},\n",
    "            3: {\"customers\": []},\n",
    "        },\n",
    "        \"family\": {\n",
    "            1: {\"customers\": []},\n",
    "            2: {\"customers\": []},\n",
    "            3: {\"customers\": []},\n",
    "        },\n",
    "    }\n",
    "\n",
    "free_tables = []\n",
    "\n",
    "for i, x in tables_data.items():\n",
    "    for z in x:\n",
    "        if len(*tables_data[i].get(z).values()) == 0:\n",
    "            free_tables.append([i,z])\n",
    "            \n",
    "      \n",
    "        \n",
    "print(free_tables)\n",
    "    \n",
    "    # for a in x.values():\n",
    "    #     #print(len(tables_data[i].get(x).get('customers')))\n",
    "    #     if len(a.get('customers')) >= 1:\n",
    "    #         continue\n",
    "    #     else:\n",
    "    #         print(f'Laisvas staliukas {i} kurio numeris {x.get(1)}')\n",
    "        # print(x)\n",
    "        # print(a.get('customers'))"
   ]
  },
  {
   "cell_type": "code",
   "execution_count": 28,
   "metadata": {},
   "outputs": [
    {
     "name": "stdout",
     "output_type": "stream",
     "text": [
      "[['family', 1], ['family', 2], ['family', 3]]\n",
      "1 family\n",
      "{'single': {1: {'customers': []}, 2: {'customers': []}, 3: {'customers': []}}, 'double': {1: {'customers': []}, 2: {'customers': []}, 3: {'customers': []}}, 'family': {1: {'customers': []}, 2: {'customers': []}, 3: {'customers': []}}}\n"
     ]
    }
   ],
   "source": [
    "tables_data = {\n",
    "        \"single\": {\n",
    "            1: {\"customers\": []},\n",
    "            2: {\"customers\": []},\n",
    "            3: {\"customers\": []},\n",
    "        },\n",
    "        \"double\": {\n",
    "            1: {\"customers\": []},\n",
    "            2: {\"customers\": []},\n",
    "            3: {\"customers\": []},\n",
    "        },\n",
    "        \"family\": {\n",
    "            1: {\"customers\": []},\n",
    "            2: {\"customers\": []},\n",
    "            3: {\"customers\": []},\n",
    "        },\n",
    "    }\n",
    "free_tables_list = [['single', 1], ['single', 2], ['single', 3], ['double', 1], ['double', 2], ['double', 3], ['family', 1], ['family', 2], ['family', 3]]\n",
    "\n",
    "full_name_ahead='Giedrius Kuprys'\n",
    "time_of_reservation_ahead='10:00'\n",
    "number_of_persons_ahead=3\n",
    "\n",
    "def assign_table():\n",
    "    \n",
    "    if number_of_persons_ahead >= 3:\n",
    "        a = [x for x in free_tables_list if x[0] == 'family']\n",
    "        print(a)\n",
    "        print(a[0][1], a[0][0])\n",
    "        \n",
    "        tables_data['family']\n",
    "    else:\n",
    "        return f'Sorry we don`t have a table for you'\n",
    "        #tables_data['family'].update()\n",
    "            \n",
    "assign_table()\n",
    "print(tables_data)"
   ]
  }
 ],
 "metadata": {
  "kernelspec": {
   "display_name": "cafeteria-9X4dzfmB",
   "language": "python",
   "name": "python3"
  },
  "language_info": {
   "codemirror_mode": {
    "name": "ipython",
    "version": 3
   },
   "file_extension": ".py",
   "mimetype": "text/x-python",
   "name": "python",
   "nbconvert_exporter": "python",
   "pygments_lexer": "ipython3",
   "version": "3.10.6"
  },
  "orig_nbformat": 4
 },
 "nbformat": 4,
 "nbformat_minor": 2
}
