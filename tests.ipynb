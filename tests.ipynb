{
 "cells": [
  {
   "cell_type": "code",
   "execution_count": null,
   "metadata": {},
   "outputs": [],
   "source": [
    "tables_data = {\n",
    "            'single':{\n",
    "                1:{'occupied': [True, True], 'custtomers': ['Giedrius Kuprys', 'Darius', 'Hubertas'], 'occupied_time': [1, 2,4,4,4,4,4]},\n",
    "                2:{'occupied': [], 'custtomers': ['Dovydas', 'Remigijus'], 'occupied_time': []},\n",
    "                3:{'occupied': [], 'custtomers': ['Hubertas', 'Aronas'], 'occupied_time': []},\n",
    "                },\n",
    "            'double':{\n",
    "                1:{'occupied': [False], 'custtomers': [], 'occupied_time': []},\n",
    "                2:{'occupied': [], 'custtomers': [], 'occupied_time': []},\n",
    "                3:{'occupied': [], 'custtomers': [], 'occupied_time': []},\n",
    "            },\n",
    "            'family':{\n",
    "                1:{'occupied': [False], 'custtomers': [], 'occupied_time': []},\n",
    "                2:{'occupied': [], 'custtomers': [], 'occupied_time': []},\n",
    "                3:{'occupied': [], 'custtomers': [], 'occupied_time': []},\n",
    "            }\n",
    "        }\n",
    "\n",
    "a = 'Giedrius Kuprys'\n",
    "for key in tables_data.keys():\n",
    "    for n in range(1, len(tables_data.get(key, {}).values()) + 1):  # vietoj 'single' prasukti ciklą su kitais staliukais\n",
    "        if a in tables_data.get(key, {}).get(n, {}).get('custtomers', {}):\n",
    "            index_of_name: list = tables_data.get('single', {}).get(n, {}).get('custtomers', {})\n",
    "            print(index_of_name.index(a))\n",
    "            print(len(tables_data.get('single', {}).get(n, {}).get('occupied_time', {})))\n",
    "        else:\n",
    "            print('Nėra')\n",
    "            \n",
    "print(tables_data['single'][1]['custtomers'].append('Vaikas'))\n",
    "print(tables_data)\n",
    "        \n",
    "   \n",
    "    \n"
   ]
  },
  {
   "cell_type": "code",
   "execution_count": null,
   "metadata": {},
   "outputs": [],
   "source": [
    "a = {'single':{1:{'occupied': False,'occupied_time': {'customer': []}}}}\n",
    "            "
   ]
  },
  {
   "cell_type": "code",
   "execution_count": null,
   "metadata": {},
   "outputs": [],
   "source": []
  },
  {
   "cell_type": "code",
   "execution_count": 138,
   "metadata": {},
   "outputs": [
    {
     "name": "stdout",
     "output_type": "stream",
     "text": [
      "[{'customers': []}, {'customers': []}]\n",
      "[{'customers': []}, {'customers': []}, {'customers': []}]\n",
      "[{'customers': []}]\n"
     ]
    }
   ],
   "source": [
    "tables_data = {\n",
    "        \"single\": {\n",
    "            1: {\"customers\": [1]},\n",
    "            2: {\"customers\": []},\n",
    "            3: {\"customers\": []},\n",
    "        },\n",
    "        \"double\": {\n",
    "            1: {\"customers\": []},\n",
    "            2: {\"customers\": []},\n",
    "            3: {\"customers\": []},\n",
    "        },\n",
    "        \"family\": {\n",
    "            1: {\"customers\": [[\"Giedrius Kuprys\", \"16:45\"], [\"Tadas Blinda\", \"20:00\"]]},\n",
    "            2: {\"customers\": [[\"Bronius Karvelis\", \"17:35\"]]},\n",
    "            3: {\"customers\": []},\n",
    "        },\n",
    "    }\n",
    "\n",
    "# for i in range(len(tables_data[\"family\"])):\n",
    "#     for x in tables_data[\"family\"].get(i+1).get('customers'):\n",
    "#         print(x)\n",
    "#         print(len(x))\n",
    "\n",
    "# for x in tables_data[\"family\"]:\n",
    "#     if len(tables_data[\"family\"].get(x).get('customers')) >= 1:\n",
    "#         continue\n",
    "#     print(x)\n",
    "\n",
    "for i, x in tables_data.items():\n",
    "    \n",
    "    a = [z for z in x.values() if not z['customers']]\n",
    "    \n",
    "    print(a)\n",
    "    \n",
    "    # for a in x.values():\n",
    "    #     #print(len(tables_data[i].get(x).get('customers')))\n",
    "    #     if len(a.get('customers')) >= 1:\n",
    "    #         continue\n",
    "    #     else:\n",
    "    #         print(f'Laisvas staliukas {i} kurio numeris {x.get(1)}')\n",
    "        # print(x)\n",
    "        # print(a.get('customers'))"
   ]
  }
 ],
 "metadata": {
  "kernelspec": {
   "display_name": "cafeteria-9X4dzfmB",
   "language": "python",
   "name": "python3"
  },
  "language_info": {
   "codemirror_mode": {
    "name": "ipython",
    "version": 3
   },
   "file_extension": ".py",
   "mimetype": "text/x-python",
   "name": "python",
   "nbconvert_exporter": "python",
   "pygments_lexer": "ipython3",
   "version": "3.10.6"
  },
  "orig_nbformat": 4
 },
 "nbformat": 4,
 "nbformat_minor": 2
}
