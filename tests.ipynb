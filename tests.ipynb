{
 "cells": [
  {
   "cell_type": "code",
   "execution_count": null,
   "metadata": {},
   "outputs": [],
   "source": [
    "import random\n",
    "\n",
    "mylist = [\"apple\", \"banana\", \"cherry\"]\n",
    "\n",
    "random.randint(0, len(mylist))\n",
    "nmb = random.randint(0, len(mylist))\n",
    "\n",
    "print(mylist[:(nmb)])"
   ]
  },
  {
   "cell_type": "code",
   "execution_count": 412,
   "metadata": {},
   "outputs": [
    {
     "name": "stdout",
     "output_type": "stream",
     "text": [
      "occupied random 2\n",
      "[[1, 2, 3], [4, 5, 6]]\n",
      "free number 2\n",
      "free number 0\n",
      "free number 2\n",
      "occupied tables:  {'single': [1, 2]}\n",
      "free tables:  {'single': [3], 'double': [1, 2, 3], 'family': [3]}\n"
     ]
    }
   ],
   "source": [
    "occupied_tables = {}\n",
    "free_tables = {}\n",
    "\n",
    "def check_table_availibility(): \n",
    "        \n",
    "        type_of_tables: dict = {\"single\": [1, 2, 3],\n",
    "                      \"double\": [4, 5, 6],\n",
    "                      'family': [7, 8, 9]\n",
    "                      }\n",
    "        table_name_random = random.randint(0, len(list(type_of_tables.keys())))  # Return random number of len dict.keys()\n",
    "        occupied_tables_list = list(type_of_tables.keys())[:(table_name_random)]\n",
    "        \n",
    "        for table_keys in type_of_tables.keys():\n",
    "            table_number_random = random.randint(0, len(list(type_of_tables.values())))\n",
    "            if table_keys in occupied_tables_list:\n",
    "                \n",
    "                number_of_occupied_tables = type_of_tables.get(table_keys)\n",
    "                occupied_tables.update({table_keys: number_of_occupied_tables[:(table_number_random)]})\n",
    "                print('occupied random', table_number_random)\n",
    "            \n",
    "                print(list(type_of_tables.values())[:(table_number_random)])\n",
    "            if table_number_random < 3:\n",
    "                print('free number', table_number_random)\n",
    "                free_tables.update({table_keys: number_of_occupied_tables[(table_number_random):]})\n",
    "                \n",
    "                \n",
    "                \n",
    "                \n",
    "            #print(list(type_of_tables.keys())[:(table_name_occupied)])\n",
    "       \n",
    "\n",
    "check_table_availibility()       \n",
    "print('occupied tables: ', occupied_tables)\n",
    "print('free tables: ', free_tables)\n"
   ]
  },
  {
   "cell_type": "code",
   "execution_count": null,
   "metadata": {},
   "outputs": [],
   "source": [
    "car = {}\n",
    "def cars():\n",
    "    car.update({'baba':145})\n",
    "    car['baba'] = 146\n",
    "cars()\n",
    "print(car)"
   ]
  }
 ],
 "metadata": {
  "kernelspec": {
   "display_name": "cafeteria-9X4dzfmB",
   "language": "python",
   "name": "python3"
  },
  "language_info": {
   "codemirror_mode": {
    "name": "ipython",
    "version": 3
   },
   "file_extension": ".py",
   "mimetype": "text/x-python",
   "name": "python",
   "nbconvert_exporter": "python",
   "pygments_lexer": "ipython3",
   "version": "3.10.6"
  },
  "orig_nbformat": 4
 },
 "nbformat": 4,
 "nbformat_minor": 2
}
