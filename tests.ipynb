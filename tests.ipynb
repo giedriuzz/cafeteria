{
 "cells": [
  {
   "cell_type": "code",
   "execution_count": 11,
   "metadata": {},
   "outputs": [
    {
     "name": "stdout",
     "output_type": "stream",
     "text": [
      "('family', 3)\n",
      "giedrius\n"
     ]
    }
   ],
   "source": [
    "import random\n",
    "\n",
    "class TableReservation:\n",
    "    \n",
    "    \n",
    "    customer_data = []\n",
    "    \n",
    "    def check_table_availibility(self):\n",
    "        type_of_tables: dict = {\"single\": 1,\n",
    "                      \"double\": 2,\n",
    "                      'family': 3\n",
    "                      }\n",
    "        check_table = random.choice(list(type_of_tables.items()))\n",
    "        return check_table\n",
    "    \n",
    "    def ask_customer_name(self) -> None:\n",
    "        customer_name=input('Please provide you full name: ')\n",
    "        print(customer_name)\n",
    "        \n",
    "        \n",
    "        \n",
    "      \n",
    "\n",
    "\n",
    "def main():\n",
    "    check_table = TableReservation()\n",
    "    print(check_table.check_table_availibility())\n",
    "    check_table.ask_customer_name()\n",
    "     \n",
    "main()"
   ]
  }
 ],
 "metadata": {
  "kernelspec": {
   "display_name": "cafeteria-9X4dzfmB",
   "language": "python",
   "name": "python3"
  },
  "language_info": {
   "codemirror_mode": {
    "name": "ipython",
    "version": 3
   },
   "file_extension": ".py",
   "mimetype": "text/x-python",
   "name": "python",
   "nbconvert_exporter": "python",
   "pygments_lexer": "ipython3",
   "version": "3.10.6"
  },
  "orig_nbformat": 4
 },
 "nbformat": 4,
 "nbformat_minor": 2
}
