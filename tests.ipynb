{
 "cells": [
  {
   "cell_type": "code",
   "execution_count": null,
   "metadata": {},
   "outputs": [],
   "source": [
    "import random\n",
    "\n",
    "mylist = [\"apple\", \"banana\", \"cherry\"]\n",
    "\n",
    "random.randint(0, len(mylist))\n",
    "nmb = random.randint(0, len(mylist))\n",
    "\n",
    "print(mylist[:(nmb)])"
   ]
  },
  {
   "cell_type": "code",
   "execution_count": 3,
   "metadata": {},
   "outputs": [
    {
     "name": "stdout",
     "output_type": "stream",
     "text": [
      "['single', 'double', 'family']\n",
      "random 1\n",
      "number_of_occupied_tables [1, 2, 3]\n",
      "[1]\n",
      "random 2\n",
      "number_of_occupied_tables [4, 5, 6]\n",
      "[4, 5]\n",
      "random 1\n",
      "number_of_occupied_tables [7, 8, 9]\n",
      "[7]\n",
      "occupied tables:  {'single': [1], 'double': [4, 5], 'family': [7]}\n",
      "free tables:  {'single': [2, 3], 'double': [6], 'family': [8, 9]}\n"
     ]
    }
   ],
   "source": [
    "import random\n",
    "\n",
    "occupied_tables = {}\n",
    "free_tables = {}\n",
    "\n",
    "def check_table_availibility(): \n",
    "        \n",
    "        type_of_tables: dict = {\"single\": [1, 2, 3],\n",
    "                      \"double\": [4, 5, 6],\n",
    "                      'family': [7, 8, 9]\n",
    "                      }\n",
    "        table_name_random = random.randint(0, len(list(type_of_tables.keys())))  # Return random number of len dict.keys()\n",
    "        occupied_tables_list = list(type_of_tables.keys())[:(table_name_random)]\n",
    "        print(occupied_tables_list)\n",
    "        for table_keys in type_of_tables.keys():\n",
    "            table_number_random = random.randint(0, len(list(type_of_tables.values())))\n",
    "            print('random', table_number_random) # DEL\n",
    "            \n",
    "            if table_keys in occupied_tables_list:\n",
    "                number_of_occupied_tables = type_of_tables.get(table_keys)\n",
    "                print('number_of_occupied_tables', number_of_occupied_tables) # DEL\n",
    "                occupied_tables.update({table_keys: number_of_occupied_tables[:(table_number_random)]})\n",
    "                if table_number_random < 3:\n",
    "                    free_tables[table_keys] = number_of_occupied_tables[(table_number_random) - len(type_of_tables.values()): ]\n",
    "            \n",
    "                print(number_of_occupied_tables[:(table_number_random)]) # DEL\n",
    "            elif table_keys not in occupied_tables_list:\n",
    "                free_tables.update({table_keys: type_of_tables.get(table_keys)})\n",
    "            \n",
    "                \n",
    "                \n",
    "                \n",
    "                \n",
    "            #print(list(type_of_tables.keys())[:(table_name_occupied)])\n",
    "       \n",
    "\n",
    "check_table_availibility()       \n",
    "print('occupied tables: ', occupied_tables)\n",
    "print('free tables: ', free_tables)\n"
   ]
  },
  {
   "cell_type": "code",
   "execution_count": null,
   "metadata": {},
   "outputs": [],
   "source": [
    "car = {}\n",
    "def cars():\n",
    "    car.update({'baba':145})\n",
    "    car['baba'] = 146\n",
    "cars()\n",
    "print(car)"
   ]
  },
  {
   "cell_type": "code",
   "execution_count": 19,
   "metadata": {},
   "outputs": [
    {
     "ename": "ValueError",
     "evalue": "dictionary update sequence element #0 has length 1; 2 is required",
     "output_type": "error",
     "traceback": [
      "\u001b[0;31m---------------------------------------------------------------------------\u001b[0m",
      "\u001b[0;31mValueError\u001b[0m                                Traceback (most recent call last)",
      "Cell \u001b[0;32mIn[19], line 7\u001b[0m\n\u001b[1;32m      5\u001b[0m         dictionarry\u001b[39m.\u001b[39mupdate(n)\n\u001b[1;32m      6\u001b[0m     \u001b[39mreturn\u001b[39;00m dictionarry\n\u001b[0;32m----> 7\u001b[0m test \u001b[39m=\u001b[39m dictionary(\u001b[39m\"\u001b[39;49m\u001b[39m1\u001b[39;49m\u001b[39m\"\u001b[39;49m,\u001b[39m\"\u001b[39;49m\u001b[39m2\u001b[39;49m\u001b[39m\"\u001b[39;49m,\u001b[39m\"\u001b[39;49m\u001b[39m3\u001b[39;49m\u001b[39m\"\u001b[39;49m)\n\u001b[1;32m      8\u001b[0m \u001b[39mprint\u001b[39m(test)\n",
      "Cell \u001b[0;32mIn[19], line 5\u001b[0m, in \u001b[0;36mdictionary\u001b[0;34m(*kwargs)\u001b[0m\n\u001b[1;32m      3\u001b[0m dictionarry \u001b[39m=\u001b[39m {}\n\u001b[1;32m      4\u001b[0m \u001b[39mfor\u001b[39;00m n \u001b[39min\u001b[39;00m kwargs:\n\u001b[0;32m----> 5\u001b[0m     dictionarry\u001b[39m.\u001b[39;49mupdate(n)\n\u001b[1;32m      6\u001b[0m \u001b[39mreturn\u001b[39;00m dictionarry\n",
      "\u001b[0;31mValueError\u001b[0m: dictionary update sequence element #0 has length 1; 2 is required"
     ]
    }
   ],
   "source": [
    "from typing import Dict\n",
    "def dictionary(**kwargs):\n",
    "    dictionarry = {}\n",
    "    for n in kwargs:\n",
    "        dictionarry.update(n)\n",
    "    return dictionarry\n",
    "dictionary(\"1\":[\"2\",\"3\"])\n",
    "print()\n"
   ]
  }
 ],
 "metadata": {
  "kernelspec": {
   "display_name": "cafeteria-9X4dzfmB",
   "language": "python",
   "name": "python3"
  },
  "language_info": {
   "codemirror_mode": {
    "name": "ipython",
    "version": 3
   },
   "file_extension": ".py",
   "mimetype": "text/x-python",
   "name": "python",
   "nbconvert_exporter": "python",
   "pygments_lexer": "ipython3",
   "version": "3.10.6"
  },
  "orig_nbformat": 4
 },
 "nbformat": 4,
 "nbformat_minor": 2
}
