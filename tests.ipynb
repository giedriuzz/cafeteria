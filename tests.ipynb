{
 "cells": [
  {
   "cell_type": "code",
   "execution_count": null,
   "metadata": {},
   "outputs": [],
   "source": [
    "tables_data = {\n",
    "            'single':{\n",
    "                1:{'occupied': [True, True], 'custtomers': ['Giedrius Kuprys', 'Darius', 'Hubertas'], 'occupied_time': [1, 2,4,4,4,4,4]},\n",
    "                2:{'occupied': [], 'custtomers': ['Dovydas', 'Remigijus'], 'occupied_time': []},\n",
    "                3:{'occupied': [], 'custtomers': ['Hubertas', 'Aronas'], 'occupied_time': []},\n",
    "                },\n",
    "            'double':{\n",
    "                1:{'occupied': [False], 'custtomers': [], 'occupied_time': []},\n",
    "                2:{'occupied': [], 'custtomers': [], 'occupied_time': []},\n",
    "                3:{'occupied': [], 'custtomers': [], 'occupied_time': []},\n",
    "            },\n",
    "            'family':{\n",
    "                1:{'occupied': [False], 'custtomers': [], 'occupied_time': []},\n",
    "                2:{'occupied': [], 'custtomers': [], 'occupied_time': []},\n",
    "                3:{'occupied': [], 'custtomers': [], 'occupied_time': []},\n",
    "            }\n",
    "        }\n",
    "\n",
    "a = 'Giedrius Kuprys'\n",
    "for key in tables_data.keys():\n",
    "    for n in range(1, len(tables_data.get(key, {}).values()) + 1):  # vietoj 'single' prasukti ciklą su kitais staliukais\n",
    "        if a in tables_data.get(key, {}).get(n, {}).get('custtomers', {}):\n",
    "            index_of_name: list = tables_data.get('single', {}).get(n, {}).get('custtomers', {})\n",
    "            print(index_of_name.index(a))\n",
    "            print(len(tables_data.get('single', {}).get(n, {}).get('occupied_time', {})))\n",
    "        else:\n",
    "            print('Nėra')\n",
    "            \n",
    "print(tables_data['single'][1]['custtomers'].append('Vaikas'))\n",
    "print(tables_data)\n",
    "        \n",
    "   \n",
    "    \n"
   ]
  },
  {
   "cell_type": "code",
   "execution_count": null,
   "metadata": {},
   "outputs": [],
   "source": [
    "a = {'single':{1:{'occupied': False,'occupied_time': {'customer': []}}}}\n",
    "            "
   ]
  },
  {
   "cell_type": "code",
   "execution_count": 163,
   "metadata": {},
   "outputs": [
    {
     "name": "stdout",
     "output_type": "stream",
     "text": [
      "[['single', 2], ['single', 3], ['double', 1], ['double', 2], ['double', 3], ['family', 3]]\n"
     ]
    }
   ],
   "source": [
    "tables_data = {\n",
    "        \"single\": {\n",
    "            1: {\"customers\": [1]},\n",
    "            2: {\"customers\": []},\n",
    "            3: {\"customers\": []},\n",
    "        },\n",
    "        \"double\": {\n",
    "            1: {\"customers\": []},\n",
    "            2: {\"customers\": []},\n",
    "            3: {\"customers\": []},\n",
    "        },\n",
    "        \"family\": {\n",
    "            1: {\"customers\": []},\n",
    "            2: {\"customers\": []},\n",
    "            3: {\"customers\": []},\n",
    "        },\n",
    "    }\n",
    "\n",
    "free_tables = []\n",
    "\n",
    "for i, x in tables_data.items():\n",
    "    for z in x:\n",
    "        if len(*tables_data[i].get(z).values()) == 0:\n",
    "            free_tables.append([i,z])\n",
    "            \n",
    "      \n",
    "        \n",
    "print(free_tables)\n",
    "    \n",
    "    # for a in x.values():\n",
    "    #     #print(len(tables_data[i].get(x).get('customers')))\n",
    "    #     if len(a.get('customers')) >= 1:\n",
    "    #         continue\n",
    "    #     else:\n",
    "    #         print(f'Laisvas staliukas {i} kurio numeris {x.get(1)}')\n",
    "        # print(x)\n",
    "        # print(a.get('customers'))"
   ]
  },
  {
   "cell_type": "code",
   "execution_count": 208,
   "metadata": {},
   "outputs": [
    {
     "name": "stdout",
     "output_type": "stream",
     "text": [
      "Sorry, restoraunt is full\n",
      "{'single': {1: {'customers': []}, 2: {'customers': []}, 3: {'customers': []}}, 'double': {1: {'customers': []}, 2: {'customers': []}, 3: {'customers': []}}, 'family': {1: {'customers': []}, 2: {'customers': []}, 3: {'customers': []}}}\n"
     ]
    }
   ],
   "source": [
    "tables_data = {\n",
    "        \"single\": {\n",
    "            1: {\"customers\": []},\n",
    "            2: {\"customers\": []},\n",
    "            3: {\"customers\": []},\n",
    "        },\n",
    "        \"double\": {\n",
    "            1: {\"customers\": []},\n",
    "            2: {\"customers\": []},\n",
    "            3: {\"customers\": []},\n",
    "        },\n",
    "        \"family\": {\n",
    "            1: {\"customers\": []},\n",
    "            2: {\"customers\": []},\n",
    "            3: {\"customers\": []},\n",
    "        },\n",
    "    }\n",
    "free_tables_list = []\n",
    "\n",
    "full_name_ahead='Giedrius Kuprys'\n",
    "time_of_reservation_ahead='10:00'\n",
    "number_of_persons_ahead=3\n",
    "\n",
    "def assign_table():\n",
    "\n",
    "    if not free_tables_list:\n",
    "        print(f'Sorry, restoraunt is full')\n",
    "        \n",
    "    if number_of_persons_ahead >= 3:\n",
    "        for table in free_tables_list:\n",
    "            if (table[0] == 'family'):\n",
    "                return tables_data[table[0]][table[1]].update({'customers':[full_name_ahead, time_of_reservation_ahead, number_of_persons_ahead]})\n",
    "            else: \n",
    "                print(f\"Sorry we don`t have a table for you\")\n",
    "                 \n",
    "    if number_of_persons_ahead >= 2:\n",
    "        for table in free_tables_list:\n",
    "            if (table[0] == 'double' or table[0] == 'family'):\n",
    "                return tables_data[table[0]][table[1]].update({'customers':[full_name_ahead, time_of_reservation_ahead, number_of_persons_ahead]})\n",
    "            else: \n",
    "                print(f\"Sorry we don`t have a table for you\")\n",
    "    if number_of_persons_ahead >= 1:\n",
    "        for table in free_tables_list:\n",
    "            if (table[0] == 'single' or table[0] == 'double' or table[0] == 'family'):\n",
    "                return tables_data[table[0]][table[1]].update({'customers':[full_name_ahead, time_of_reservation_ahead, number_of_persons_ahead]})\n",
    "            else: \n",
    "                print(f\"Sorry we don`t have a table for you\")\n",
    "    \n",
    "    \n",
    "    \n",
    "            \n",
    "assign_table()\n",
    "print(tables_data)"
   ]
  },
  {
   "cell_type": "code",
   "execution_count": 13,
   "metadata": {},
   "outputs": [
    {
     "data": {
      "text/plain": [
       "Position(name='Vancouver', lon=-123.1, lat=49.3)"
      ]
     },
     "execution_count": 13,
     "metadata": {},
     "output_type": "execute_result"
    }
   ],
   "source": [
    "from dataclasses import dataclass\n",
    "\n",
    "@dataclass\n",
    "class Position:\n",
    "    name: str\n",
    "    lon: float\n",
    "    lat: float\n",
    "    \n",
    "pos = Position('Oslo', 10.8, 59.4)\n",
    "pos.name\n",
    "Position('Vancouver', -123.1, 49.3)"
   ]
  },
  {
   "cell_type": "code",
   "execution_count": 1,
   "metadata": {},
   "outputs": [
    {
     "name": "stdout",
     "output_type": "stream",
     "text": [
      "Deck(cards=[PlayingCard(rank='Q', suit='Hearts'), PlayingCard(rank='A', suit='Spades')])\n"
     ]
    }
   ],
   "source": [
    "from dataclasses import dataclass\n",
    "from typing import List\n",
    "\n",
    "@dataclass\n",
    "class PlayingCard:\n",
    "    rank: str\n",
    "    suit: str\n",
    "\n",
    "@dataclass\n",
    "class Deck:\n",
    "    cards: List[PlayingCard]\n",
    "    \n",
    "queen_of_hearts = PlayingCard(rank='Q', suit='Hearts')\n",
    "ace_of_spades = PlayingCard(rank='A', suit='Spades')\n",
    "\n",
    "two_cards = Deck([queen_of_hearts, ace_of_spades])\n",
    "\n",
    "print(two_cards)\n"
   ]
  },
  {
   "cell_type": "code",
   "execution_count": 141,
   "metadata": {},
   "outputs": [
    {
     "name": "stdout",
     "output_type": "stream",
     "text": [
      "False\n"
     ]
    }
   ],
   "source": [
    "from typing import Optional\n",
    "from main import CafeteriaTables, Customer\n",
    "table = [\n",
    "    CafeteriaTables(table_name='Single', table_number=1, table_customer=[]),\n",
    "    CafeteriaTables(table_name='Single', table_number=2, table_customer=[]), \n",
    "    CafeteriaTables(table_name='Single', table_number=3, table_customer=[]), \n",
    "    CafeteriaTables(table_name='Double', table_number=4, table_customer=[]), \n",
    "    CafeteriaTables(table_name='Double', table_number=5, table_customer=[]),\n",
    "    CafeteriaTables(table_name='Double', table_number=6, table_customer=[]), \n",
    "    #CafeteriaTables(table_name='Family', table_number=7, table_customer=[Customer(full_name='Tadas Blinda', reservation_time='13', qnt_of_persons=3)]), \n",
    "    CafeteriaTables(table_name='Family', table_number=8, table_customer=[]),\n",
    "    CafeteriaTables(table_name='Family', table_number=9, table_customer=[])]\n",
    "\n",
    "z = 'Tadas Blindas'\n",
    "\n",
    "# name = input('Name: ')\n",
    "# clock = input('Clock: ')\n",
    "# qnt = int(input('qnt'))\n",
    "customer = Customer(full_name=z, reservation_time='14', qnt_of_persons=5)\n",
    "\n",
    "def check_customer(customer) -> bool | Optional[bool]:\n",
    "    '''_exhausted  = object()\n",
    "\n",
    "        if next (some_generator, _exhausted) is _exhausted:\n",
    "            print ('empty generator')'''\n",
    "    a = [i for i in table if i.table_customer]\n",
    "    # _empty = object()\n",
    "    # if next(a, _empty) is _empty:\n",
    "    if not a:\n",
    "        return False\n",
    "    else:\n",
    "        print(list(a))\n",
    "        for i in a:\n",
    "            for n in i.table_customer:\n",
    "                if n.full_name == customer.full_name:\n",
    "                    return True\n",
    "                else:\n",
    "                    return False\n",
    "        \n",
    "                \n",
    "\n",
    "print(check_customer(customer))"
   ]
  }
 ],
 "metadata": {
  "kernelspec": {
   "display_name": "cafeteria-9X4dzfmB",
   "language": "python",
   "name": "python3"
  },
  "language_info": {
   "codemirror_mode": {
    "name": "ipython",
    "version": 3
   },
   "file_extension": ".py",
   "mimetype": "text/x-python",
   "name": "python",
   "nbconvert_exporter": "python",
   "pygments_lexer": "ipython3",
   "version": "3.10.6"
  },
  "orig_nbformat": 4
 },
 "nbformat": 4,
 "nbformat_minor": 2
}
