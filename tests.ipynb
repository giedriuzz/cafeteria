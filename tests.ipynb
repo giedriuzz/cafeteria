{
 "cells": [
  {
   "cell_type": "code",
   "execution_count": 12,
   "metadata": {},
   "outputs": [
    {
     "name": "stdout",
     "output_type": "stream",
     "text": [
      "0\n",
      "7\n",
      "Nėra\n",
      "Nėra\n",
      "Nėra\n",
      "Nėra\n",
      "Nėra\n",
      "Nėra\n",
      "Nėra\n",
      "Nėra\n",
      "None\n",
      "{'single': {1: {'occupied': [True, True], 'custtomers': ['Giedrius Kuprys', 'Darius', 'Hubertas', 'Vaikas'], 'occupied_time': [1, 2, 4, 4, 4, 4, 4]}, 2: {'occupied': [], 'custtomers': ['Dovydas', 'Remigijus'], 'occupied_time': []}, 3: {'occupied': [], 'custtomers': ['Hubertas', 'Aronas'], 'occupied_time': []}}, 'double': {1: {'occupied': [False], 'custtomers': [], 'occupied_time': []}, 2: {'occupied': [], 'custtomers': [], 'occupied_time': []}, 3: {'occupied': [], 'custtomers': [], 'occupied_time': []}}, 'family': {1: {'occupied': [False], 'custtomers': [], 'occupied_time': []}, 2: {'occupied': [], 'custtomers': [], 'occupied_time': []}, 3: {'occupied': [], 'custtomers': [], 'occupied_time': []}}}\n"
     ]
    }
   ],
   "source": [
    "tables_data = {\n",
    "            'single':{\n",
    "                1:{'occupied': [True, True], 'custtomers': ['Giedrius Kuprys', 'Darius', 'Hubertas'], 'occupied_time': [1, 2,4,4,4,4,4]},\n",
    "                2:{'occupied': [], 'custtomers': ['Dovydas', 'Remigijus'], 'occupied_time': []},\n",
    "                3:{'occupied': [], 'custtomers': ['Hubertas', 'Aronas'], 'occupied_time': []},\n",
    "                },\n",
    "            'double':{\n",
    "                1:{'occupied': [False], 'custtomers': [], 'occupied_time': []},\n",
    "                2:{'occupied': [], 'custtomers': [], 'occupied_time': []},\n",
    "                3:{'occupied': [], 'custtomers': [], 'occupied_time': []},\n",
    "            },\n",
    "            'family':{\n",
    "                1:{'occupied': [False], 'custtomers': [], 'occupied_time': []},\n",
    "                2:{'occupied': [], 'custtomers': [], 'occupied_time': []},\n",
    "                3:{'occupied': [], 'custtomers': [], 'occupied_time': []},\n",
    "            }\n",
    "        }\n",
    "\n",
    "a = 'Giedrius Kuprys'\n",
    "for key in tables_data.keys():\n",
    "    for n in range(1, len(tables_data.get(key, {}).values()) + 1):  # vietoj 'single' prasukti ciklą su kitais staliukais\n",
    "        if a in tables_data.get(key, {}).get(n, {}).get('custtomers', {}):\n",
    "            index_of_name: list = tables_data.get('single', {}).get(n, {}).get('custtomers', {})\n",
    "            print(index_of_name.index(a))\n",
    "            print(len(tables_data.get('single', {}).get(n, {}).get('occupied_time', {})))\n",
    "        else:\n",
    "            print('Nėra')\n",
    "            \n",
    "print(tables_data['single'][1]['custtomers'].append('Vaikas'))\n",
    "print(tables_data)\n",
    "        \n",
    "   \n",
    "    \n"
   ]
  },
  {
   "cell_type": "code",
   "execution_count": null,
   "metadata": {},
   "outputs": [],
   "source": [
    "a = {'single':{1:{'occupied': False,'occupied_time': {'customer': []}}}}\n",
    "            "
   ]
  }
 ],
 "metadata": {
  "kernelspec": {
   "display_name": "cafeteria-9X4dzfmB",
   "language": "python",
   "name": "python3"
  },
  "language_info": {
   "codemirror_mode": {
    "name": "ipython",
    "version": 3
   },
   "file_extension": ".py",
   "mimetype": "text/x-python",
   "name": "python",
   "nbconvert_exporter": "python",
   "pygments_lexer": "ipython3",
   "version": "3.10.6"
  },
  "orig_nbformat": 4
 },
 "nbformat": 4,
 "nbformat_minor": 2
}
